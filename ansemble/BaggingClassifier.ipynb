{
 "cells": [
  {
   "cell_type": "code",
   "execution_count": 7,
   "id": "initial_id",
   "metadata": {
    "collapsed": true,
    "ExecuteTime": {
     "end_time": "2024-05-18T09:37:43.275624300Z",
     "start_time": "2024-05-18T09:37:43.245619100Z"
    }
   },
   "outputs": [],
   "source": [
    "from sklearn.datasets import load_wine\n",
    "from sklearn.model_selection import train_test_split\n",
    "from sklearn.ensemble import BaggingClassifier\n",
    "import numpy as np\n",
    "import numpy as np\n",
    "from sklearn.model_selection import KFold\n",
    "\n",
    "wine = load_wine()\n",
    "\n",
    "X,y = wine.data, wine.target\n",
    "\n",
    "XTrain, yTrain, XTest, yTest = train_test_split(X,y, test_size=0.3, random_state=42)\n",
    "\n",
    "clf = BaggingClassifier(n_estimators=50,  random_state=42)\n",
    "\n",
    "def accuracy(y, y_pred):\n",
    "    if len(y) == len(y_pred):\n",
    "        wholeLength = len(y)\n",
    "        sub_abs = np.abs(y-y_pred)\n",
    "        sub = [1 for x in sub_abs if x>0]\n",
    "        accuracy = len(sub)/wholeLength\n",
    "        return accuracy\n",
    "    else:\n",
    "        return None"
   ]
  },
  {
   "cell_type": "code",
   "execution_count": 8,
   "outputs": [
    {
     "name": "stdout",
     "output_type": "stream",
     "text": [
      "0.027777777777777776\n",
      "0.0\n",
      "0.05555555555555555\n",
      "0.05714285714285714\n",
      "0.0\n",
      "Sum accuracy for model:  0.028095238095238097\n"
     ]
    }
   ],
   "source": [
    "kf = KFold(n_splits=5, shuffle=True, random_state=42)\n",
    "\n",
    "sum_accuracy = 0\n",
    "for train_index, test_index in kf.split(X):\n",
    "    X_train, X_test = X[train_index], X[test_index]\n",
    "    y_train, y_test = y[train_index], y[test_index]\n",
    "    \n",
    "    clf.fit(X_train, y_train)\n",
    "    y_pred = clf.predict(X_test)\n",
    "    actual_accuracy = accuracy(y_pred, y_test)\n",
    "    sum_accuracy += actual_accuracy\n",
    "    print(actual_accuracy)\n",
    "\n",
    "print(\"Sum accuracy for model: \", sum_accuracy/5)"
   ],
   "metadata": {
    "collapsed": false,
    "ExecuteTime": {
     "end_time": "2024-05-18T09:37:44.065076700Z",
     "start_time": "2024-05-18T09:37:43.278631900Z"
    }
   },
   "id": "3ef55aa6b2c8239f"
  }
 ],
 "metadata": {
  "kernelspec": {
   "display_name": "Python 3",
   "language": "python",
   "name": "python3"
  },
  "language_info": {
   "codemirror_mode": {
    "name": "ipython",
    "version": 2
   },
   "file_extension": ".py",
   "mimetype": "text/x-python",
   "name": "python",
   "nbconvert_exporter": "python",
   "pygments_lexer": "ipython2",
   "version": "2.7.6"
  }
 },
 "nbformat": 4,
 "nbformat_minor": 5
}
