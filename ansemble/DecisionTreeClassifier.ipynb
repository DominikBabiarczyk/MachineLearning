{
 "cells": [
  {
   "cell_type": "code",
   "execution_count": 41,
   "id": "initial_id",
   "metadata": {
    "collapsed": true,
    "ExecuteTime": {
     "end_time": "2024-05-18T09:30:40.980001Z",
     "start_time": "2024-05-18T09:30:40.950984700Z"
    }
   },
   "outputs": [],
   "source": [
    "import numpy as np\n",
    "from sklearn.datasets import load_wine\n",
    "from sklearn.model_selection import train_test_split\n",
    "from sklearn.model_selection import cross_val_score\n",
    "from sklearn.tree import DecisionTreeClassifier\n",
    "import numpy as np\n",
    "from sklearn.model_selection import KFold\n"
   ]
  },
  {
   "cell_type": "code",
   "execution_count": 42,
   "outputs": [
    {
     "name": "stdout",
     "output_type": "stream",
     "text": [
      "[0 0 2 0 1 0 1 2 1 2 0 1 0 1 0 1 1 1 0 1 0 1 1 2 2 2 1 1 1 0 0 1 2 0 0 0 2\n",
      " 2 1 2 0 1 1 1 2 0 1 1 2 0 1 0 0 2]\n",
      "[0 0 2 0 1 0 1 2 1 2 0 2 0 1 0 1 1 1 0 1 0 1 1 2 2 2 1 1 1 0 0 1 2 0 0 0 2\n",
      " 2 1 2 0 1 1 1 2 0 1 1 2 0 1 0 0 2]\n"
     ]
    },
    {
     "data": {
      "text/plain": "0.018518518518518517"
     },
     "execution_count": 42,
     "metadata": {},
     "output_type": "execute_result"
    }
   ],
   "source": [
    "wine = load_wine()\n",
    "\n",
    "X,y = wine.data, wine.target\n",
    "XTrain, XTest, yTrain, yTest = train_test_split(X,y, test_size=0.3, random_state=42)\n",
    "\n",
    "clf = DecisionTreeClassifier(min_samples_leaf=3, max_depth=3, random_state=42)\n",
    "\n",
    "clf.fit(XTrain, yTrain)\n",
    "y_pred = clf.predict(XTest)\n",
    "\n",
    "print(y_pred)\n",
    "print(yTest)\n",
    "\n",
    "def accuracy(y, y_pred):\n",
    "    if len(y) == len(y_pred):\n",
    "        wholeLength = len(y)\n",
    "        sub_abs = np.abs(y-y_pred)\n",
    "        sub = [1 for x in sub_abs if x>0]\n",
    "        accuracy = len(sub)/wholeLength\n",
    "        return accuracy\n",
    "    else:\n",
    "        return None\n",
    "\n",
    "accuracy(y_pred, yTest)"
   ],
   "metadata": {
    "collapsed": false,
    "ExecuteTime": {
     "end_time": "2024-05-18T09:30:41.027000200Z",
     "start_time": "2024-05-18T09:30:40.965987200Z"
    }
   },
   "id": "e02c777ec98ce81a"
  },
  {
   "cell_type": "raw",
   "source": [
    "5-krotna walidacja krzywowa"
   ],
   "metadata": {
    "collapsed": false
   },
   "id": "e3b19eeec48229d4"
  },
  {
   "cell_type": "code",
   "execution_count": 43,
   "outputs": [
    {
     "name": "stdout",
     "output_type": "stream",
     "text": [
      "0.05555555555555555\n",
      "0.1111111111111111\n",
      "0.19444444444444445\n",
      "0.11428571428571428\n",
      "0.14285714285714285\n",
      "Sum accuracy for model:  0.12365079365079365\n"
     ]
    }
   ],
   "source": [
    "kf = KFold(n_splits=5, shuffle=True, random_state=42)\n",
    "\n",
    "sum_accuracy = 0\n",
    "for train_index, test_index in kf.split(X):\n",
    "    X_train, X_test = X[train_index], X[test_index]\n",
    "    y_train, y_test = y[train_index], y[test_index]\n",
    "    \n",
    "    clf.fit(X_train, y_train)\n",
    "    y_pred = clf.predict(X_test)\n",
    "    actual_accuracy = accuracy(y_pred, y_test)\n",
    "    sum_accuracy += actual_accuracy\n",
    "    print(actual_accuracy)\n",
    "\n",
    "print(\"Sum accuracy for model: \", sum_accuracy/5)\n",
    "\n"
   ],
   "metadata": {
    "collapsed": false,
    "ExecuteTime": {
     "end_time": "2024-05-18T09:30:41.029013800Z",
     "start_time": "2024-05-18T09:30:40.994994400Z"
    }
   },
   "id": "9370c830e070262d"
  }
 ],
 "metadata": {
  "kernelspec": {
   "display_name": "Python 3",
   "language": "python",
   "name": "python3"
  },
  "language_info": {
   "codemirror_mode": {
    "name": "ipython",
    "version": 2
   },
   "file_extension": ".py",
   "mimetype": "text/x-python",
   "name": "python",
   "nbconvert_exporter": "python",
   "pygments_lexer": "ipython2",
   "version": "2.7.6"
  }
 },
 "nbformat": 4,
 "nbformat_minor": 5
}
