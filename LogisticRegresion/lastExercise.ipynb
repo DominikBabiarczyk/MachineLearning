{
 "cells": [
  {
   "cell_type": "code",
   "execution_count": 4,
   "id": "initial_id",
   "metadata": {
    "collapsed": true,
    "ExecuteTime": {
     "end_time": "2024-03-30T12:50:21.959302600Z",
     "start_time": "2024-03-30T12:50:21.822268400Z"
    }
   },
   "outputs": [],
   "source": [
    "from sklearn.linear_model import LogisticRegression"
   ]
  },
  {
   "cell_type": "code",
   "execution_count": 1,
   "outputs": [],
   "source": [
    "from sklearn.datasets import load_iris\n",
    " \n",
    "data = load_iris()\n",
    "x = data.data\n",
    "y = data.target\n"
   ],
   "metadata": {
    "collapsed": false,
    "ExecuteTime": {
     "end_time": "2024-03-30T12:46:04.554900200Z",
     "start_time": "2024-03-30T12:45:58.239037400Z"
    }
   },
   "id": "7722fb694ed7ea53"
  },
  {
   "cell_type": "code",
   "execution_count": 5,
   "outputs": [],
   "source": [
    "from sklearn.model_selection import train_test_split\n",
    "from sklearn.preprocessing import StandardScaler\n",
    " \n",
    "x_train, x_test, y_train, y_test = train_test_split(x, y, test_size=0.3, random_state=12345)\n",
    "\n",
    "standard_scaler = StandardScaler()\n",
    "x_train = standard_scaler.fit_transform(x_train)\n",
    "x_test = standard_scaler.transform(x_test)"
   ],
   "metadata": {
    "collapsed": false,
    "ExecuteTime": {
     "end_time": "2024-03-30T12:50:26.298178600Z",
     "start_time": "2024-03-30T12:50:26.280176800Z"
    }
   },
   "id": "5e0453dda9be3acf"
  },
  {
   "cell_type": "code",
   "execution_count": 10,
   "outputs": [],
   "source": [
    "from sklearn.preprocessing import PolynomialFeatures\n",
    "poly_features = PolynomialFeatures(degree=9)\n",
    "X_train = x_train #poly_features.fit_transform(x_train)\n",
    "X_test = x_test #poly_features.fit_transform(x_test)"
   ],
   "metadata": {
    "collapsed": false,
    "ExecuteTime": {
     "end_time": "2024-03-30T12:59:54.941963700Z",
     "start_time": "2024-03-30T12:59:54.905945100Z"
    }
   },
   "id": "c9aa7bffcefd1514"
  },
  {
   "cell_type": "code",
   "execution_count": 13,
   "outputs": [
    {
     "data": {
      "text/plain": "'              precision    recall  f1-score   support\\n\\n           0       1.00      1.00      1.00        16\\n           1       1.00      0.94      0.97        17\\n           2       0.92      1.00      0.96        12\\n\\n    accuracy                           0.98        45\\n   macro avg       0.97      0.98      0.98        45\\nweighted avg       0.98      0.98      0.98        45\\n'"
     },
     "execution_count": 13,
     "metadata": {},
     "output_type": "execute_result"
    }
   ],
   "source": [
    "from sklearn.metrics import log_loss\n",
    "from sklearn.metrics import classification_report\n",
    " \n",
    "log_regr = LogisticRegression(penalty=None, C=1)\n",
    "log_regr.fit(X_train, y_train)\n",
    "\n",
    "y_train_probab = log_regr.predict_proba(X_train)    \n",
    "y_test_probabs = log_regr.predict_proba(X_test)\n",
    "\n",
    "cost_train = log_loss(y_train, y_train_probab)\n",
    "cost_test = log_loss(y_test, y_test_probabs)\n",
    "\n",
    "y_test_pred = log_regr.predict(X_test)\n",
    "classification_report(y_test, y_test_pred)"
   ],
   "metadata": {
    "collapsed": false,
    "ExecuteTime": {
     "end_time": "2024-03-30T14:15:35.373280500Z",
     "start_time": "2024-03-30T14:15:35.313602400Z"
    }
   },
   "id": "c5ffcebfb0a9593a"
  },
  {
   "cell_type": "code",
   "execution_count": 16,
   "outputs": [
    {
     "data": {
      "text/plain": "'              precision    recall  f1-score   support\\n\\n           0       1.00      1.00      1.00        16\\n           1       0.92      0.71      0.80        17\\n           2       0.69      0.92      0.79        12\\n\\n    accuracy                           0.87        45\\n   macro avg       0.87      0.87      0.86        45\\nweighted avg       0.89      0.87      0.87        45\\n'"
     },
     "execution_count": 16,
     "metadata": {},
     "output_type": "execute_result"
    }
   ],
   "source": [
    "from sklearn.metrics import log_loss\n",
    "from sklearn.metrics import classification_report\n",
    " \n",
    "log_regr = LogisticRegression(penalty='l2', C=0.1)\n",
    "log_regr.fit(X_train, y_train)\n",
    "\n",
    "y_train_probab = log_regr.predict_proba(X_train)    \n",
    "y_test_probabs = log_regr.predict_proba(X_test)\n",
    "\n",
    "cost_train = log_loss(y_train, y_train_probab)\n",
    "cost_test = log_loss(y_test, y_test_probabs)\n",
    "\n",
    "y_test_pred = log_regr.predict(X_test)\n",
    "classification_report(y_test, y_test_pred)"
   ],
   "metadata": {
    "collapsed": false,
    "ExecuteTime": {
     "end_time": "2024-03-30T14:18:42.207553300Z",
     "start_time": "2024-03-30T14:18:42.130539500Z"
    }
   },
   "id": "c0cffd5d9a498161"
  }
 ],
 "metadata": {
  "kernelspec": {
   "display_name": "Python 3",
   "language": "python",
   "name": "python3"
  },
  "language_info": {
   "codemirror_mode": {
    "name": "ipython",
    "version": 2
   },
   "file_extension": ".py",
   "mimetype": "text/x-python",
   "name": "python",
   "nbconvert_exporter": "python",
   "pygments_lexer": "ipython2",
   "version": "2.7.6"
  }
 },
 "nbformat": 4,
 "nbformat_minor": 5
}
